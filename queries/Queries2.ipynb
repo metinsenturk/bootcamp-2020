{
    "metadata": {
        "kernelspec": {
            "name": "SQL",
            "display_name": "SQL",
            "language": "sql"
        },
        "language_info": {
            "name": "sql",
            "version": ""
        }
    },
    "nbformat_minor": 2,
    "nbformat": 4,
    "cells": [
        {
            "cell_type": "markdown",
            "source": [
                "## SQL Queries - Simple"
            ],
            "metadata": {
                "azdata_cell_guid": "09a36ca7-66a1-4325-affe-216a349037f1"
            }
        },
        {
            "cell_type": "markdown",
            "source": [
                "### Tasks"
            ],
            "metadata": {
                "azdata_cell_guid": "2e6b9a1d-8f35-42c7-9326-d83f798d4f1e"
            }
        },
        {
            "cell_type": "markdown",
            "source": [
                "A \"Single Item Order\" is a customer order where only one item is ordered. Show the SalesOrderID and the UnitPrice for every Single Item Order."
            ],
            "metadata": {
                "azdata_cell_guid": "1d903b74-bcea-4f46-94f0-554a4d906eef"
            }
        },
        {
            "cell_type": "code",
            "source": [
                "-- sql here\n",
                "SELECT TOP 3\n",
                "  SalesOrderID,\n",
                "  UnitPrice\n",
                "FROM\n",
                "  SalesLT.SalesOrderDetail\n",
                "WHERE\n",
                "  OrderQty = 1"
            ],
            "metadata": {
                "azdata_cell_guid": "8d715f71-aecb-4c4d-bb52-aaf7e51e5940"
            },
            "outputs": [
                {
                    "output_type": "display_data",
                    "data": {
                        "text/html": "(3 rows affected)"
                    },
                    "metadata": {}
                },
                {
                    "output_type": "display_data",
                    "data": {
                        "text/html": "Total execution time: 00:00:00.034"
                    },
                    "metadata": {}
                },
                {
                    "output_type": "execute_result",
                    "metadata": {},
                    "execution_count": 4,
                    "data": {
                        "application/vnd.dataresource+json": {
                            "schema": {
                                "fields": [
                                    {
                                        "name": "SalesOrderID"
                                    },
                                    {
                                        "name": "UnitPrice"
                                    }
                                ]
                            },
                            "data": [
                                {
                                    "0": "71774",
                                    "1": "356.8980"
                                },
                                {
                                    "0": "71774",
                                    "1": "356.8980"
                                },
                                {
                                    "0": "71776",
                                    "1": "63.9000"
                                }
                            ]
                        },
                        "text/html": "<table><tr><th>SalesOrderID</th><th>UnitPrice</th></tr><tr><td>71774</td><td>356.8980</td></tr><tr><td>71774</td><td>356.8980</td></tr><tr><td>71776</td><td>63.9000</td></tr></table>"
                    }
                }
            ],
            "execution_count": 4
        },
        {
            "cell_type": "markdown",
            "source": [
                "Where did the racing socks go? List the product name and the CompanyName for all Customers who ordered ProductModel 'Racing Socks'."
            ],
            "metadata": {
                "azdata_cell_guid": "4a42302e-1c87-4c77-856d-3c89d3f45e7b"
            }
        },
        {
            "cell_type": "code",
            "source": [
                "-- sql here\n",
                "SELECT\n",
                "  Product.name, Customer.CompanyName\n",
                "FROM\n",
                "  SalesLT.ProductModel\n",
                "  JOIN\n",
                "    SalesLT.Product\n",
                "    ON ProductModel.ProductModelID = Product.ProductModelID\n",
                "  JOIN\n",
                "    SalesLT.SalesOrderDetail\n",
                "    ON SalesOrderDetail.ProductID = Product.ProductID\n",
                "  JOIN\n",
                "    SalesLT.SalesOrderHeader\n",
                "    ON SalesOrderDetail.SalesOrderID = SalesOrderHeader.SalesOrderID\n",
                "  JOIN\n",
                "    SalesLT.Customer\n",
                "    ON SalesOrderHeader.CustomerID = Customer.CustomerID\n",
                "WHERE\n",
                "  ProductModel.Name = 'Racing Socks'"
            ],
            "metadata": {
                "azdata_cell_guid": "745d7616-1883-4df0-927f-f4b252467ce1"
            },
            "outputs": [
                {
                    "output_type": "display_data",
                    "data": {
                        "text/html": "(12 rows affected)"
                    },
                    "metadata": {}
                },
                {
                    "output_type": "display_data",
                    "data": {
                        "text/html": "Total execution time: 00:00:00.037"
                    },
                    "metadata": {}
                },
                {
                    "output_type": "execute_result",
                    "metadata": {},
                    "execution_count": 5,
                    "data": {
                        "application/vnd.dataresource+json": {
                            "schema": {
                                "fields": [
                                    {
                                        "name": "name"
                                    },
                                    {
                                        "name": "CompanyName"
                                    }
                                ]
                            },
                            "data": [
                                {
                                    "0": "Racing Socks, M",
                                    "1": "Thrifty Parts and Sales"
                                },
                                {
                                    "0": "Racing Socks, M",
                                    "1": "Sports Products Store"
                                },
                                {
                                    "0": "Racing Socks, M",
                                    "1": "The Bicycle Accessories Company"
                                },
                                {
                                    "0": "Racing Socks, M",
                                    "1": "Remarkable Bike Store"
                                },
                                {
                                    "0": "Racing Socks, M",
                                    "1": "Bulk Discount Store"
                                },
                                {
                                    "0": "Racing Socks, L",
                                    "1": "Eastside Department Store"
                                },
                                {
                                    "0": "Racing Socks, L",
                                    "1": "Riding Cycles"
                                },
                                {
                                    "0": "Racing Socks, L",
                                    "1": "Sports Products Store"
                                },
                                {
                                    "0": "Racing Socks, L",
                                    "1": "Essential Bike Works"
                                },
                                {
                                    "0": "Racing Socks, L",
                                    "1": "The Bicycle Accessories Company"
                                },
                                {
                                    "0": "Racing Socks, L",
                                    "1": "Remarkable Bike Store"
                                },
                                {
                                    "0": "Racing Socks, L",
                                    "1": "Bulk Discount Store"
                                }
                            ]
                        },
                        "text/html": "<table><tr><th>name</th><th>CompanyName</th></tr><tr><td>Racing Socks, M</td><td>Thrifty Parts and Sales</td></tr><tr><td>Racing Socks, M</td><td>Sports Products Store</td></tr><tr><td>Racing Socks, M</td><td>The Bicycle Accessories Company</td></tr><tr><td>Racing Socks, M</td><td>Remarkable Bike Store</td></tr><tr><td>Racing Socks, M</td><td>Bulk Discount Store</td></tr><tr><td>Racing Socks, L</td><td>Eastside Department Store</td></tr><tr><td>Racing Socks, L</td><td>Riding Cycles</td></tr><tr><td>Racing Socks, L</td><td>Sports Products Store</td></tr><tr><td>Racing Socks, L</td><td>Essential Bike Works</td></tr><tr><td>Racing Socks, L</td><td>The Bicycle Accessories Company</td></tr><tr><td>Racing Socks, L</td><td>Remarkable Bike Store</td></tr><tr><td>Racing Socks, L</td><td>Bulk Discount Store</td></tr></table>"
                    }
                }
            ],
            "execution_count": 5
        },
        {
            "cell_type": "markdown",
            "source": [
                "Show the product description for culture 'fr' for product with ProductID 736."
            ],
            "metadata": {
                "azdata_cell_guid": "c12107f9-c16b-4e3d-b337-cdcd3c6f5360"
            }
        },
        {
            "cell_type": "code",
            "source": [
                "-- sql here\n",
                "SELECT\n",
                "  ProductDescription.Description\n",
                "FROM\n",
                "  SalesLT.ProductDescription\n",
                "  JOIN\n",
                "     SalesLT.ProductModelProductDescription\n",
                "     ON ProductDescription.ProductDescriptionID = ProductModelProductDescription.ProductDescriptionID\n",
                "  JOIN\n",
                "    SalesLT.ProductModel\n",
                "    ON ProductModelProductDescription.ProductModelID = ProductModel.ProductModelID\n",
                "  JOIN\n",
                "    SalesLT.Product\n",
                "    ON ProductModel.ProductModelID = Product.ProductModelID\n",
                "WHERE\n",
                "  ProductModelProductDescription.culture = 'fr'\n",
                "  AND Product.ProductID = '736'"
            ],
            "metadata": {
                "azdata_cell_guid": "850491fb-44d2-43da-ae41-71205a180e96"
            },
            "outputs": [
                {
                    "output_type": "display_data",
                    "data": {
                        "text/html": "(1 row affected)"
                    },
                    "metadata": {}
                },
                {
                    "output_type": "display_data",
                    "data": {
                        "text/html": "Total execution time: 00:00:00.051"
                    },
                    "metadata": {}
                },
                {
                    "output_type": "execute_result",
                    "metadata": {},
                    "execution_count": 6,
                    "data": {
                        "application/vnd.dataresource+json": {
                            "schema": {
                                "fields": [
                                    {
                                        "name": "Description"
                                    }
                                ]
                            },
                            "data": [
                                {
                                    "0": "Le cadre LL en aluminium offre une conduite confortable, une excellente absorption des bosses pour un très bon rapport qualité-prix."
                                }
                            ]
                        },
                        "text/html": "<table><tr><th>Description</th></tr><tr><td>Le cadre LL en aluminium offre une conduite confortable, une excellente absorption des bosses pour un très bon rapport qualité-prix.</td></tr></table>"
                    }
                }
            ],
            "execution_count": 6
        },
        {
            "cell_type": "markdown",
            "source": [
                "Use the SubTotal value in SaleOrderHeader to list orders from the largest to the smallest. For each order show the CompanyName and the SubTotal and the total weight of the order."
            ],
            "metadata": {
                "azdata_cell_guid": "23060d27-6e70-4d8e-930b-5bc516f00cbf"
            }
        },
        {
            "cell_type": "code",
            "source": [
                "-- sql here\n",
                "SELECT TOP 3\n",
                "  Customer.CompanyName,\n",
                "  SalesOrderHeader.SubTotal,\n",
                "  SUM(SalesOrderDetail.OrderQty * Product.weight)\n",
                "FROM\n",
                "  SalesLT.Product\n",
                "  JOIN\n",
                "    SalesLT.SalesOrderDetail\n",
                "    ON Product.ProductID = SalesOrderDetail.ProductID\n",
                "  JOIN\n",
                "    SalesLT.SalesOrderHeader\n",
                "    ON SalesOrderDetail.SalesOrderID = SalesOrderHeader.SalesorderID\n",
                "  JOIN\n",
                "    SalesLT.Customer\n",
                "    ON SalesOrderHeader.CustomerID = Customer.CustomerID\n",
                "GROUP BY\n",
                "  SalesOrderHeader.SalesOrderID, SalesOrderHeader.SubTotal, Customer.CompanyName\n",
                "ORDER BY\n",
                "  SalesOrderHeader.SubTotal DESC"
            ],
            "metadata": {
                "azdata_cell_guid": "36d1ce1b-fb2b-4405-ad68-3fd4f96bd094"
            },
            "outputs": [
                {
                    "output_type": "display_data",
                    "data": {
                        "text/html": "Warning: Null value is eliminated by an aggregate or other SET operation."
                    },
                    "metadata": {}
                },
                {
                    "output_type": "display_data",
                    "data": {
                        "text/html": "(3 rows affected)"
                    },
                    "metadata": {}
                },
                {
                    "output_type": "display_data",
                    "data": {
                        "text/html": "Total execution time: 00:00:00.039"
                    },
                    "metadata": {}
                },
                {
                    "output_type": "execute_result",
                    "metadata": {},
                    "execution_count": 8,
                    "data": {
                        "application/vnd.dataresource+json": {
                            "schema": {
                                "fields": [
                                    {
                                        "name": "CompanyName"
                                    },
                                    {
                                        "name": "SubTotal"
                                    },
                                    {
                                        "name": "(No column name)"
                                    }
                                ]
                            },
                            "data": [
                                {
                                    "0": "Action Bicycle Specialists",
                                    "1": "108561.8317",
                                    "2": "1133911.56"
                                },
                                {
                                    "0": "Metropolitan Bicycle Supply",
                                    "1": "98278.6910",
                                    "2": "679588.02"
                                },
                                {
                                    "0": "Bulk Discount Store",
                                    "1": "88812.8625",
                                    "2": "618373.97"
                                }
                            ]
                        },
                        "text/html": "<table><tr><th>CompanyName</th><th>SubTotal</th><th>(No column name)</th></tr><tr><td>Action Bicycle Specialists</td><td>108561.8317</td><td>1133911.56</td></tr><tr><td>Metropolitan Bicycle Supply</td><td>98278.6910</td><td>679588.02</td></tr><tr><td>Bulk Discount Store</td><td>88812.8625</td><td>618373.97</td></tr></table>"
                    }
                }
            ],
            "execution_count": 8
        },
        {
            "cell_type": "markdown",
            "source": [
                "How many products in ProductCategory 'Cranksets' have been sold to an address in 'London'?"
            ],
            "metadata": {
                "azdata_cell_guid": "17a29399-e6b4-4505-88a8-7429456f1e71"
            }
        },
        {
            "cell_type": "code",
            "source": [
                "-- sql here\n",
                "SELECT COUNT(DISTINCT PAW.ProductID)\n",
                "FROM   SalesLT.ProductCategory PC\n",
                "  JOIN SalesLT.Product PAW ON PAW.ProductCategoryID = PC.ProductCategoryID\n",
                "  JOIN SalesLT.SalesOrderDetail SOD ON PAW.ProductID = SOD.ProductID\n",
                "  JOIN SalesLT.SalesOrderHeader SOH ON SOH.SalesOrderID = SOD.SalesOrderID\n",
                "  JOIN SalesLT.Customer CAW ON SOH.CustomerID = CAW.CustomerID\n",
                "  JOIN SalesLT.CustomerAddress CA ON CAW.CustomerID = CA.CustomerID\n",
                "  JOIN SalesLT.Address ADR ON CA.AddressID = ADR.AddressID\n",
                "WHERE  PC.Name = 'Cranksets' AND ADR.City = 'London';"
            ],
            "metadata": {
                "azdata_cell_guid": "2af3ed3e-3555-4982-a1dc-b5e1f6671d29"
            },
            "outputs": [
                {
                    "output_type": "display_data",
                    "data": {
                        "text/html": "(1 row affected)"
                    },
                    "metadata": {}
                },
                {
                    "output_type": "display_data",
                    "data": {
                        "text/html": "Total execution time: 00:00:00.070"
                    },
                    "metadata": {}
                },
                {
                    "output_type": "execute_result",
                    "metadata": {},
                    "execution_count": 2,
                    "data": {
                        "application/vnd.dataresource+json": {
                            "schema": {
                                "fields": [
                                    {
                                        "name": "(No column name)"
                                    }
                                ]
                            },
                            "data": [
                                {
                                    "0": "2"
                                }
                            ]
                        },
                        "text/html": "<table><tr><th>(No column name)</th></tr><tr><td>2</td></tr></table>"
                    }
                }
            ],
            "execution_count": 2
        },
        {
            "cell_type": "markdown",
            "source": [
                "### Notes & Conclusion"
            ],
            "metadata": {
                "azdata_cell_guid": "439a441d-ead2-431f-94ef-80a4f9c9bfb2"
            }
        },
        {
            "cell_type": "markdown",
            "source": [
                "Notes are here."
            ],
            "metadata": {
                "azdata_cell_guid": "19198e06-faef-43c7-9e7a-345f3dbc92d0"
            }
        }
    ]
}