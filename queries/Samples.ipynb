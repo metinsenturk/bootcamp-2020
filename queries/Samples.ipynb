{
    "metadata": {
        "kernelspec": {
            "name": "SQL",
            "display_name": "SQL",
            "language": "sql"
        },
        "language_info": {
            "name": "sql",
            "version": ""
        }
    },
    "nbformat_minor": 2,
    "nbformat": 4,
    "cells": [
        {
            "cell_type": "markdown",
            "source": [
                "## Sample SQL Queries\n",
                "\n",
                "A list of SQL queries to go over during presentations."
            ],
            "metadata": {
                "azdata_cell_guid": "6c54c9bb-3bbe-4940-b5a7-1f32bd5eb2e0"
            }
        },
        {
            "cell_type": "markdown",
            "source": [
                "Getting top 10 customers from customers."
            ],
            "metadata": {
                "azdata_cell_guid": "06c3b5a7-4877-44e6-a841-2e0273789228"
            }
        },
        {
            "cell_type": "code",
            "source": [
                "select top(3) *\n",
                "from [SalesLT].[Customer]"
            ],
            "metadata": {
                "azdata_cell_guid": "834f500f-9bac-41c7-b871-517886880fc6"
            },
            "outputs": [
                {
                    "output_type": "display_data",
                    "data": {
                        "text/html": "(3 rows affected)"
                    },
                    "metadata": {}
                },
                {
                    "output_type": "display_data",
                    "data": {
                        "text/html": "Total execution time: 00:00:00.024"
                    },
                    "metadata": {}
                },
                {
                    "output_type": "execute_result",
                    "metadata": {},
                    "execution_count": 1,
                    "data": {
                        "application/vnd.dataresource+json": {
                            "schema": {
                                "fields": [
                                    {
                                        "name": "CustomerID"
                                    },
                                    {
                                        "name": "NameStyle"
                                    },
                                    {
                                        "name": "Title"
                                    },
                                    {
                                        "name": "FirstName"
                                    },
                                    {
                                        "name": "MiddleName"
                                    },
                                    {
                                        "name": "LastName"
                                    },
                                    {
                                        "name": "Suffix"
                                    },
                                    {
                                        "name": "CompanyName"
                                    },
                                    {
                                        "name": "SalesPerson"
                                    },
                                    {
                                        "name": "EmailAddress"
                                    },
                                    {
                                        "name": "Phone"
                                    },
                                    {
                                        "name": "PasswordHash"
                                    },
                                    {
                                        "name": "PasswordSalt"
                                    },
                                    {
                                        "name": "rowguid"
                                    },
                                    {
                                        "name": "ModifiedDate"
                                    }
                                ]
                            },
                            "data": [
                                {
                                    "0": "1",
                                    "1": "0",
                                    "2": "Mr.",
                                    "3": "Orlando",
                                    "4": "N.",
                                    "5": "Gee",
                                    "6": "NULL",
                                    "7": "A Bike Store",
                                    "8": "adventure-works\\pamela0",
                                    "9": "orlando0@adventure-works.com",
                                    "10": "245-555-0173",
                                    "11": "L/Rlwxzp4w7RWmEgXX+/A7cXaePEPcp+KwQhl2fJL7w=",
                                    "12": "1KjXYs4=",
                                    "13": "3f5ae95e-b87d-4aed-95b4-c3797afcb74f",
                                    "14": "2005-08-01 00:00:00.000"
                                },
                                {
                                    "0": "2",
                                    "1": "0",
                                    "2": "Mr.",
                                    "3": "Keith",
                                    "4": "NULL",
                                    "5": "Harris",
                                    "6": "NULL",
                                    "7": "Progressive Sports",
                                    "8": "adventure-works\\david8",
                                    "9": "keith0@adventure-works.com",
                                    "10": "170-555-0127",
                                    "11": "YPdtRdvqeAhj6wyxEsFdshBDNXxkCXn+CRgbvJItknw=",
                                    "12": "fs1ZGhY=",
                                    "13": "e552f657-a9af-4a7d-a645-c429d6e02491",
                                    "14": "2006-08-01 00:00:00.000"
                                },
                                {
                                    "0": "3",
                                    "1": "0",
                                    "2": "Ms.",
                                    "3": "Donna",
                                    "4": "F.",
                                    "5": "Carreras",
                                    "6": "NULL",
                                    "7": "Advanced Bike Components",
                                    "8": "adventure-works\\jillian0",
                                    "9": "donna0@adventure-works.com",
                                    "10": "279-555-0130",
                                    "11": "LNoK27abGQo48gGue3EBV/UrlYSToV0/s87dCRV7uJk=",
                                    "12": "YTNH5Rw=",
                                    "13": "130774b1-db21-4ef3-98c8-c104bcd6ed6d",
                                    "14": "2005-09-01 00:00:00.000"
                                }
                            ]
                        },
                        "text/html": "<table><tr><th>CustomerID</th><th>NameStyle</th><th>Title</th><th>FirstName</th><th>MiddleName</th><th>LastName</th><th>Suffix</th><th>CompanyName</th><th>SalesPerson</th><th>EmailAddress</th><th>Phone</th><th>PasswordHash</th><th>PasswordSalt</th><th>rowguid</th><th>ModifiedDate</th></tr><tr><td>1</td><td>0</td><td>Mr.</td><td>Orlando</td><td>N.</td><td>Gee</td><td>NULL</td><td>A Bike Store</td><td>adventure-works\\pamela0</td><td>orlando0@adventure-works.com</td><td>245-555-0173</td><td>L/Rlwxzp4w7RWmEgXX+/A7cXaePEPcp+KwQhl2fJL7w=</td><td>1KjXYs4=</td><td>3f5ae95e-b87d-4aed-95b4-c3797afcb74f</td><td>2005-08-01 00:00:00.000</td></tr><tr><td>2</td><td>0</td><td>Mr.</td><td>Keith</td><td>NULL</td><td>Harris</td><td>NULL</td><td>Progressive Sports</td><td>adventure-works\\david8</td><td>keith0@adventure-works.com</td><td>170-555-0127</td><td>YPdtRdvqeAhj6wyxEsFdshBDNXxkCXn+CRgbvJItknw=</td><td>fs1ZGhY=</td><td>e552f657-a9af-4a7d-a645-c429d6e02491</td><td>2006-08-01 00:00:00.000</td></tr><tr><td>3</td><td>0</td><td>Ms.</td><td>Donna</td><td>F.</td><td>Carreras</td><td>NULL</td><td>Advanced Bike Components</td><td>adventure-works\\jillian0</td><td>donna0@adventure-works.com</td><td>279-555-0130</td><td>LNoK27abGQo48gGue3EBV/UrlYSToV0/s87dCRV7uJk=</td><td>YTNH5Rw=</td><td>130774b1-db21-4ef3-98c8-c104bcd6ed6d</td><td>2005-09-01 00:00:00.000</td></tr></table>"
                    }
                }
            ],
            "execution_count": 1
        },
        {
            "cell_type": "markdown",
            "source": [
                "Show the CompanyName for James D. Kramer."
            ],
            "metadata": {
                "azdata_cell_guid": "f8c10349-1425-435e-a122-db2c076411b2"
            }
        },
        {
            "cell_type": "code",
            "source": [
                "SELECT CompanyName\n",
                "  FROM [SalesLT].[Customer]\n",
                " WHERE FirstName='James'\n",
                "   AND MiddleName='D.'\n",
                "   AND LastName='Kramer'"
            ],
            "metadata": {
                "azdata_cell_guid": "8e09741e-d7a0-4437-9daa-945a501e2437",
                "tags": []
            },
            "outputs": [
                {
                    "output_type": "display_data",
                    "data": {
                        "text/html": "(1 row affected)"
                    },
                    "metadata": {}
                },
                {
                    "output_type": "display_data",
                    "data": {
                        "text/html": "Total execution time: 00:00:00.024"
                    },
                    "metadata": {}
                },
                {
                    "output_type": "execute_result",
                    "metadata": {},
                    "execution_count": 2,
                    "data": {
                        "application/vnd.dataresource+json": {
                            "schema": {
                                "fields": [
                                    {
                                        "name": "CompanyName"
                                    }
                                ]
                            },
                            "data": [
                                {
                                    "0": "Refined Department Stores"
                                }
                            ]
                        },
                        "text/html": "<table><tr><th>CompanyName</th></tr><tr><td>Refined Department Stores</td></tr></table>"
                    }
                }
            ],
            "execution_count": 2
        },
        {
            "cell_type": "markdown",
            "source": [
                "Show all the addresses listed for 'Modular Cycle Systems'."
            ],
            "metadata": {
                "azdata_cell_guid": "fa851716-becc-45d6-b92a-6f8f7b3fb30c"
            }
        },
        {
            "cell_type": "code",
            "source": [
                "SELECT CompanyName,AddressType,AddressLine1\n",
                "  FROM [SalesLT].[Customer] \n",
                "  JOIN [SalesLT].[CustomerAddress]\n",
                "    ON (Customer.CustomerID=CustomerAddress.CustomerID)\n",
                "  JOIN [SalesLT].[Address]\n",
                "    ON (CustomerAddress.AddressID=Address.AddressID)\n",
                " WHERE CompanyName='Modular Cycle Systems'"
            ],
            "metadata": {
                "azdata_cell_guid": "f3fa76b6-2392-4024-9dc8-4d212706b7a4"
            },
            "outputs": [
                {
                    "output_type": "display_data",
                    "data": {
                        "text/html": "(2 rows affected)"
                    },
                    "metadata": {}
                },
                {
                    "output_type": "display_data",
                    "data": {
                        "text/html": "Total execution time: 00:00:00.025"
                    },
                    "metadata": {}
                },
                {
                    "output_type": "execute_result",
                    "metadata": {},
                    "execution_count": 3,
                    "data": {
                        "application/vnd.dataresource+json": {
                            "schema": {
                                "fields": [
                                    {
                                        "name": "CompanyName"
                                    },
                                    {
                                        "name": "AddressType"
                                    },
                                    {
                                        "name": "AddressLine1"
                                    }
                                ]
                            },
                            "data": [
                                {
                                    "0": "Modular Cycle Systems",
                                    "1": "Main Office",
                                    "2": "800 Interchange Blvd."
                                },
                                {
                                    "0": "Modular Cycle Systems",
                                    "1": "Shipping",
                                    "2": "165 North Main"
                                }
                            ]
                        },
                        "text/html": "<table><tr><th>CompanyName</th><th>AddressType</th><th>AddressLine1</th></tr><tr><td>Modular Cycle Systems</td><td>Main Office</td><td>800 Interchange Blvd.</td></tr><tr><td>Modular Cycle Systems</td><td>Shipping</td><td>165 North Main</td></tr></table>"
                    }
                }
            ],
            "execution_count": 3
        },
        {
            "cell_type": "markdown",
            "source": [
                "Show OrdeQty, the Name and the ListPrice of the order made by CustomerID 635."
            ],
            "metadata": {
                "azdata_cell_guid": "0bd8ea85-9f42-4c2f-a838-8e11d9057af6"
            }
        },
        {
            "cell_type": "code",
            "source": [
                "SELECT TOP 10 OrderQty, Name, ListPrice\n",
                "  FROM [SalesLT].[SalesOrderHeader] \n",
                "  JOIN [SalesLT].[SalesOrderDetail]\n",
                "          ON SalesOrderDetail.SalesOrderID = SalesOrderHeader.SalesOrderID\n",
                "  JOIN [SalesLT].[Product]\n",
                "          ON SalesOrderDetail.ProductID=Product.ProductID\n",
                "WHERE CustomerID=29957"
            ],
            "metadata": {
                "azdata_cell_guid": "e4c70c6c-11c5-48c4-9a2b-81c706ca3e76"
            },
            "outputs": [
                {
                    "output_type": "display_data",
                    "data": {
                        "text/html": "(10 rows affected)"
                    },
                    "metadata": {}
                },
                {
                    "output_type": "display_data",
                    "data": {
                        "text/html": "Total execution time: 00:00:00.019"
                    },
                    "metadata": {}
                },
                {
                    "output_type": "execute_result",
                    "metadata": {},
                    "execution_count": 4,
                    "data": {
                        "application/vnd.dataresource+json": {
                            "schema": {
                                "fields": [
                                    {
                                        "name": "OrderQty"
                                    },
                                    {
                                        "name": "Name"
                                    },
                                    {
                                        "name": "ListPrice"
                                    }
                                ]
                            },
                            "data": [
                                {
                                    "0": "4",
                                    "1": "LL Road Frame - Black, 52",
                                    "2": "337.2200"
                                },
                                {
                                    "0": "6",
                                    "1": "ML Road Pedal",
                                    "2": "62.0900"
                                },
                                {
                                    "0": "3",
                                    "1": "Road-250 Black, 44",
                                    "2": "2443.3500"
                                },
                                {
                                    "0": "4",
                                    "1": "Road-750 Black, 58",
                                    "2": "539.9900"
                                },
                                {
                                    "0": "9",
                                    "1": "Hydration Pack - 70 oz.",
                                    "2": "54.9900"
                                },
                                {
                                    "0": "7",
                                    "1": "Half-Finger Gloves, M",
                                    "2": "24.4900"
                                },
                                {
                                    "0": "25",
                                    "1": "Road-350-W Yellow, 48",
                                    "2": "1700.9900"
                                },
                                {
                                    "0": "6",
                                    "1": "Long-Sleeve Logo Jersey, M",
                                    "2": "49.9900"
                                },
                                {
                                    "0": "8",
                                    "1": "Bike Wash - Dissolver",
                                    "2": "7.9500"
                                },
                                {
                                    "0": "1",
                                    "1": "HL Road Handlebars",
                                    "2": "120.2700"
                                }
                            ]
                        },
                        "text/html": "<table><tr><th>OrderQty</th><th>Name</th><th>ListPrice</th></tr><tr><td>4</td><td>LL Road Frame - Black, 52</td><td>337.2200</td></tr><tr><td>6</td><td>ML Road Pedal</td><td>62.0900</td></tr><tr><td>3</td><td>Road-250 Black, 44</td><td>2443.3500</td></tr><tr><td>4</td><td>Road-750 Black, 58</td><td>539.9900</td></tr><tr><td>9</td><td>Hydration Pack - 70 oz.</td><td>54.9900</td></tr><tr><td>7</td><td>Half-Finger Gloves, M</td><td>24.4900</td></tr><tr><td>25</td><td>Road-350-W Yellow, 48</td><td>1700.9900</td></tr><tr><td>6</td><td>Long-Sleeve Logo Jersey, M</td><td>49.9900</td></tr><tr><td>8</td><td>Bike Wash - Dissolver</td><td>7.9500</td></tr><tr><td>1</td><td>HL Road Handlebars</td><td>120.2700</td></tr></table>"
                    }
                }
            ],
            "execution_count": 4
        }
    ]
}