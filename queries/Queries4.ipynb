{
    "metadata": {
        "kernelspec": {
            "name": "SQL",
            "display_name": "SQL",
            "language": "sql"
        },
        "language_info": {
            "name": "sql",
            "version": ""
        }
    },
    "nbformat_minor": 2,
    "nbformat": 4,
    "cells": [
        {
            "cell_type": "markdown",
            "source": [
                "## SQL Queries - Simple"
            ],
            "metadata": {
                "azdata_cell_guid": "09a36ca7-66a1-4325-affe-216a349037f1"
            }
        },
        {
            "cell_type": "markdown",
            "source": [
                "### Tasks"
            ],
            "metadata": {
                "azdata_cell_guid": "2e6b9a1d-8f35-42c7-9326-d83f798d4f1e"
            }
        },
        {
            "cell_type": "markdown",
            "source": [
                "List the SalesOrderNumber for the customer 'Good Toys' 'Bike World'."
            ],
            "metadata": {
                "azdata_cell_guid": "1d903b74-bcea-4f46-94f0-554a4d906eef"
            }
        },
        {
            "cell_type": "code",
            "source": [
                "-- sql here\n",
                "\n",
                "SELECT\n",
                "  SalesOrderHeader.SalesOrderID,\n",
                "  Customer.CompanyName\n",
                "FROM\n",
                "  SalesLT.Customer\n",
                "  LEFT JOIN\n",
                "    SalesLT.SalesOrderHeader\n",
                "    ON Customer.CustomerID = SalesOrderHeader.CustomerID\n",
                "WHERE\n",
                "  CompanyName LIKE '%Good Toys%'\n",
                "  OR CompanyName LIKE '%Bike World%'"
            ],
            "metadata": {
                "azdata_cell_guid": "8d715f71-aecb-4c4d-bb52-aaf7e51e5940"
            },
            "outputs": [
                {
                    "output_type": "display_data",
                    "data": {
                        "text/html": "(4 rows affected)"
                    },
                    "metadata": {}
                },
                {
                    "output_type": "display_data",
                    "data": {
                        "text/html": "Total execution time: 00:00:00.033"
                    },
                    "metadata": {}
                },
                {
                    "output_type": "execute_result",
                    "metadata": {},
                    "execution_count": 1,
                    "data": {
                        "application/vnd.dataresource+json": {
                            "schema": {
                                "fields": [
                                    {
                                        "name": "SalesOrderID"
                                    },
                                    {
                                        "name": "CompanyName"
                                    }
                                ]
                            },
                            "data": [
                                {
                                    "0": "NULL",
                                    "1": "Bike World"
                                },
                                {
                                    "0": "NULL",
                                    "1": "Good Toys"
                                },
                                {
                                    "0": "NULL",
                                    "1": "Bike World"
                                },
                                {
                                    "0": "71774",
                                    "1": "Good Toys"
                                }
                            ]
                        },
                        "text/html": "<table><tr><th>SalesOrderID</th><th>CompanyName</th></tr><tr><td>NULL</td><td>Bike World</td></tr><tr><td>NULL</td><td>Good Toys</td></tr><tr><td>NULL</td><td>Bike World</td></tr><tr><td>71774</td><td>Good Toys</td></tr></table>"
                    }
                }
            ],
            "execution_count": 1
        },
        {
            "cell_type": "markdown",
            "source": [
                "List the ProductName and the quantity of what was ordered by 'Futuristic Bikes'."
            ],
            "metadata": {
                "azdata_cell_guid": "4a42302e-1c87-4c77-856d-3c89d3f45e7b"
            }
        },
        {
            "cell_type": "code",
            "source": [
                "-- sql here\n",
                "SELECT\n",
                "  Product.Name,\n",
                "  SalesOrderDetail.OrderQty\n",
                "FROM\n",
                "  SalesLT.Customer\n",
                "  JOIN\n",
                "    SalesLT.SalesOrderHeader\n",
                "    ON Customer.CustomerID = SalesOrderHeader.CustomerID\n",
                "  JOIN\n",
                "    SalesLT.SalesOrderDetail\n",
                "    ON SalesOrderHeader.SalesOrderID = SalesOrderDetail.SalesOrderID\n",
                "  JOIN\n",
                "    SalesLT.Product\n",
                "    ON SalesOrderDetail.ProductID = Product.ProductID\n",
                "WHERE\n",
                "  Customer.CompanyName = 'Futuristic Bikes'"
            ],
            "metadata": {
                "azdata_cell_guid": "745d7616-1883-4df0-927f-f4b252467ce1"
            },
            "outputs": [
                {
                    "output_type": "display_data",
                    "data": {
                        "text/html": "(3 rows affected)"
                    },
                    "metadata": {}
                },
                {
                    "output_type": "display_data",
                    "data": {
                        "text/html": "Total execution time: 00:00:00.044"
                    },
                    "metadata": {}
                },
                {
                    "output_type": "execute_result",
                    "metadata": {},
                    "execution_count": 3,
                    "data": {
                        "application/vnd.dataresource+json": {
                            "schema": {
                                "fields": [
                                    {
                                        "name": "Name"
                                    },
                                    {
                                        "name": "OrderQty"
                                    }
                                ]
                            },
                            "data": [
                                {
                                    "0": "ML Mountain Seat/Saddle",
                                    "1": "2"
                                },
                                {
                                    "0": "Long-Sleeve Logo Jersey, L",
                                    "1": "2"
                                },
                                {
                                    "0": "Classic Vest, S",
                                    "1": "3"
                                }
                            ]
                        },
                        "text/html": "<table><tr><th>Name</th><th>OrderQty</th></tr><tr><td>ML Mountain Seat/Saddle</td><td>2</td></tr><tr><td>Long-Sleeve Logo Jersey, L</td><td>2</td></tr><tr><td>Classic Vest, S</td><td>3</td></tr></table>"
                    }
                }
            ],
            "execution_count": 3
        },
        {
            "cell_type": "markdown",
            "source": [
                "List the name and addresses of companies containing the word 'Bike' (upper or lower case) and companies containing 'cycle' (upper or lower case). Ensure that the 'bike's are listed before the 'cycles's."
            ],
            "metadata": {
                "azdata_cell_guid": "c12107f9-c16b-4e3d-b337-cdcd3c6f5360"
            }
        },
        {
            "cell_type": "code",
            "source": [
                "-- sql here\n",
                "SELECT TOP 3\n",
                "  t.CompanyName,\n",
                "  Address.AddressLine1,\n",
                "  Address.AddressLine2,\n",
                "  Address.City,\n",
                "  Address.StateProvince,\n",
                "  Address.CountryRegion,\n",
                "  Address.PostalCode\n",
                "FROM\n",
                "  (\n",
                "    SELECT DISTINCT\n",
                "      CustomerID,\n",
                "      CompanyName,\n",
                "      1 AS 'Rank'\n",
                "    FROM\n",
                "      SalesLT.Customer\n",
                "    WHERE\n",
                "      lOWER(CompanyName) LIKE '%bike%'\n",
                "    UNION\n",
                "    SELECT DISTINCT\n",
                "      CustomerID,\n",
                "      CompanyName,\n",
                "      2 AS 'Rank'\n",
                "    FROM\n",
                "      SalesLT.Customer\n",
                "    WHERE\n",
                "      LOWER(CompanyName) LIKE '%cycle%'\n",
                "  ) AS t\n",
                "  JOIN\n",
                "    SalesLT.CustomerAddress\n",
                "    ON t.CustomerID = CustomerAddress.CustomerID\n",
                "  JOIN\n",
                "    SalesLT.Address\n",
                "    ON CustomerAddress.AddressID = Address.AddressID\n",
                "ORDER BY\n",
                "  t.Rank,\n",
                "  t.CompanyName"
            ],
            "metadata": {
                "azdata_cell_guid": "850491fb-44d2-43da-ae41-71205a180e96"
            },
            "outputs": [
                {
                    "output_type": "display_data",
                    "data": {
                        "text/html": "(3 rows affected)"
                    },
                    "metadata": {}
                },
                {
                    "output_type": "display_data",
                    "data": {
                        "text/html": "Total execution time: 00:00:00.056"
                    },
                    "metadata": {}
                },
                {
                    "output_type": "execute_result",
                    "metadata": {},
                    "execution_count": 7,
                    "data": {
                        "application/vnd.dataresource+json": {
                            "schema": {
                                "fields": [
                                    {
                                        "name": "CompanyName"
                                    },
                                    {
                                        "name": "AddressLine1"
                                    },
                                    {
                                        "name": "AddressLine2"
                                    },
                                    {
                                        "name": "City"
                                    },
                                    {
                                        "name": "StateProvince"
                                    },
                                    {
                                        "name": "CountryRegion"
                                    },
                                    {
                                        "name": "PostalCode"
                                    }
                                ]
                            },
                            "data": [
                                {
                                    "0": "A Bike Store",
                                    "1": "2251 Elliot Avenue",
                                    "2": "NULL",
                                    "3": "Seattle",
                                    "4": "Washington",
                                    "5": "United States",
                                    "6": "98104"
                                },
                                {
                                    "0": "A Typical Bike Shop",
                                    "1": "One Dancing, Rr No. 25",
                                    "2": "Box 8033",
                                    "3": "Round Rock",
                                    "4": "Texas",
                                    "5": "United States",
                                    "6": "78664"
                                },
                                {
                                    "0": "Advanced Bike Components",
                                    "1": "12345 Sterling Avenue",
                                    "2": "NULL",
                                    "3": "Irving",
                                    "4": "Texas",
                                    "5": "United States",
                                    "6": "75061"
                                }
                            ]
                        },
                        "text/html": "<table><tr><th>CompanyName</th><th>AddressLine1</th><th>AddressLine2</th><th>City</th><th>StateProvince</th><th>CountryRegion</th><th>PostalCode</th></tr><tr><td>A Bike Store</td><td>2251 Elliot Avenue</td><td>NULL</td><td>Seattle</td><td>Washington</td><td>United States</td><td>98104</td></tr><tr><td>A Typical Bike Shop</td><td>One Dancing, Rr No. 25</td><td>Box 8033</td><td>Round Rock</td><td>Texas</td><td>United States</td><td>78664</td></tr><tr><td>Advanced Bike Components</td><td>12345 Sterling Avenue</td><td>NULL</td><td>Irving</td><td>Texas</td><td>United States</td><td>75061</td></tr></table>"
                    }
                }
            ],
            "execution_count": 7
        },
        {
            "cell_type": "markdown",
            "source": [
                "Show the total order value for each CountryRegion. List by value with the highest first."
            ],
            "metadata": {
                "azdata_cell_guid": "23060d27-6e70-4d8e-930b-5bc516f00cbf"
            }
        },
        {
            "cell_type": "code",
            "source": [
                "-- sql here\n",
                "SELECT\n",
                "  Address.CountryRegion,\n",
                "  SUM(SubTotal)\n",
                "FROM\n",
                "  SalesLT.SalesOrderHeader\n",
                "  JOIN\n",
                "    SalesLT.Address\n",
                "    ON SalesOrderHeader.ShipToAddressID = Address.AddressID\n",
                "GROUP BY\n",
                "  Address.CountryRegion\n",
                "ORDER BY\n",
                "  SUM(SubTotal) DESC"
            ],
            "metadata": {
                "azdata_cell_guid": "36d1ce1b-fb2b-4405-ad68-3fd4f96bd094"
            },
            "outputs": [
                {
                    "output_type": "display_data",
                    "data": {
                        "text/html": "(2 rows affected)"
                    },
                    "metadata": {}
                },
                {
                    "output_type": "display_data",
                    "data": {
                        "text/html": "Total execution time: 00:00:00.062"
                    },
                    "metadata": {}
                },
                {
                    "output_type": "execute_result",
                    "metadata": {},
                    "execution_count": 9,
                    "data": {
                        "application/vnd.dataresource+json": {
                            "schema": {
                                "fields": [
                                    {
                                        "name": "CountryRegion"
                                    },
                                    {
                                        "name": "(No column name)"
                                    }
                                ]
                            },
                            "data": [
                                {
                                    "0": "United Kingdom",
                                    "1": "518096.4336"
                                },
                                {
                                    "0": "United States",
                                    "1": "347336.6835"
                                }
                            ]
                        },
                        "text/html": "<table><tr><th>CountryRegion</th><th>(No column name)</th></tr><tr><td>United Kingdom</td><td>518096.4336</td></tr><tr><td>United States</td><td>347336.6835</td></tr></table>"
                    }
                }
            ],
            "execution_count": 9
        },
        {
            "cell_type": "markdown",
            "source": [
                "Find the best customer in each region."
            ],
            "metadata": {
                "azdata_cell_guid": "17a29399-e6b4-4505-88a8-7429456f1e71"
            }
        },
        {
            "cell_type": "code",
            "source": [
                "-- sql here\n",
                "SELECT\n",
                "  t.CountryRegion,\n",
                "  t.CompanyName,\n",
                "  t.Total\n",
                "FROM\n",
                "  (\n",
                "    SELECT\n",
                "      t.*,\n",
                "      @counter := CASE\n",
                "        WHEN\n",
                "          @CountryRegion = t.CountyRegion\n",
                "        THEN\n",
                "          @counter + 1\n",
                "        ELSE\n",
                "          1\n",
                "      END AS counter,\n",
                "      @CountryRegion := t.CountyRegion AS CountryRegion\n",
                "    FROM\n",
                "      (\n",
                "        SELECT\n",
                "          @counter := 0,\n",
                "          @CountryRegion := 0\n",
                "      ) AS initvar,\n",
                "      (\n",
                "        SELECT\n",
                "          Address.CountyRegion,\n",
                "          Customer.CompanyName,\n",
                "          SUM(SubTotal) AS 'Total'\n",
                "        FROM\n",
                "          SalesLT.SalesOrderHeader\n",
                "          JOIN\n",
                "            SalesLT.Customer\n",
                "            ON SalesOrderHeader.CustomerID = Customer.CustomerID\n",
                "          JOIN\n",
                "            SalesLT.CustomerAddress\n",
                "            ON Customer.CustomerID = CustomerAddress.CustomerID\n",
                "          JOIN\n",
                "            SalesLT.Address\n",
                "            ON CustomerAddress.AddressID = Address.AddressID\n",
                "        GROUP BY\n",
                "          Customer.CompanyName,\n",
                "          Address.CountyRegion\n",
                "        ORDER BY Address.CountyRegion, SUM(SubTotal) DESC\n",
                "      ) AS t\n",
                "  ) AS t\n",
                "WHERE\n",
                "  t.counter = 1"
            ],
            "metadata": {
                "azdata_cell_guid": "2af3ed3e-3555-4982-a1dc-b5e1f6671d29"
            },
            "outputs": [
                {
                    "output_type": "error",
                    "evalue": "Msg 137, Level 15, State 2, Line 10\nMust declare the scalar variable \"@counter\".",
                    "ename": "",
                    "traceback": []
                },
                {
                    "output_type": "error",
                    "evalue": "Msg 102, Level 15, State 1, Line 22\nIncorrect syntax near ':'.",
                    "ename": "",
                    "traceback": []
                },
                {
                    "output_type": "error",
                    "evalue": "Msg 156, Level 15, State 1, Line 44\nIncorrect syntax near the keyword 'ORDER'.",
                    "ename": "",
                    "traceback": []
                },
                {
                    "output_type": "display_data",
                    "data": {
                        "text/html": "Total execution time: 00:00:00.018"
                    },
                    "metadata": {}
                }
            ],
            "execution_count": 10
        },
        {
            "cell_type": "markdown",
            "source": [
                "### Notes & Conclusion"
            ],
            "metadata": {
                "azdata_cell_guid": "439a441d-ead2-431f-94ef-80a4f9c9bfb2"
            }
        },
        {
            "cell_type": "markdown",
            "source": [
                "Notes are here."
            ],
            "metadata": {
                "azdata_cell_guid": "19198e06-faef-43c7-9e7a-345f3dbc92d0"
            }
        }
    ]
}