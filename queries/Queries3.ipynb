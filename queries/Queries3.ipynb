{
    "metadata": {
        "kernelspec": {
            "name": "SQL",
            "display_name": "SQL",
            "language": "sql"
        },
        "language_info": {
            "name": "sql",
            "version": ""
        }
    },
    "nbformat_minor": 2,
    "nbformat": 4,
    "cells": [
        {
            "cell_type": "markdown",
            "source": [
                "## SQL Queries - Simple"
            ],
            "metadata": {
                "azdata_cell_guid": "09a36ca7-66a1-4325-affe-216a349037f1"
            }
        },
        {
            "cell_type": "markdown",
            "source": [
                "### Tasks"
            ],
            "metadata": {
                "azdata_cell_guid": "2e6b9a1d-8f35-42c7-9326-d83f798d4f1e"
            }
        },
        {
            "cell_type": "markdown",
            "source": [
                "For every customer with a 'Main Office' in Dallas show AddressLine1 of the 'Main Office' and AddressLine1 of the 'Shipping' address - if there is no shipping address leave it blank. Use one row per customer."
            ],
            "metadata": {
                "azdata_cell_guid": "1d903b74-bcea-4f46-94f0-554a4d906eef"
            }
        },
        {
            "cell_type": "code",
            "source": [
                "-- sql here\n",
                "SELECT CAW.CustomerID, CAST(CompanyName AS CHAR(25)) AS CompanyName, \n",
                "       ADR1.AddressLine1 AS 'Main Office addr.',\n",
                "       COALESCE((SELECT TOP 1 ADR2.AddressLine1 \n",
                "                 FROM   SalesLT.Address ADR2 \n",
                "                 JOIN SalesLT.CustomerAddress CA2 \n",
                "                 ON ADR2.AddressID = CA2.AddressID\n",
                "                 WHERE CA2.CustomerID = CAW.CustomerID\n",
                "                   AND CA2.AddressType = 'Shipping'),\n",
                "                 'use main office addr. ') AS 'Shipping addr.'\n",
                "FROM   SalesLT.Customer CAW \n",
                "  JOIN SalesLT.CustomerAddress CA1 ON CAW.CustomerID = CA1.CustomerID\n",
                "  JOIN SalesLT.Address ADR1 ON CA1.AddressID = ADR1.AddressID\n",
                "WHERE City = 'Dallas' AND CA1.AddressType = 'Main Office' \n",
                "ORDER BY CAW.CustomerID"
            ],
            "metadata": {
                "azdata_cell_guid": "8d715f71-aecb-4c4d-bb52-aaf7e51e5940"
            },
            "outputs": [
                {
                    "output_type": "display_data",
                    "data": {
                        "text/html": "(5 rows affected)"
                    },
                    "metadata": {}
                },
                {
                    "output_type": "display_data",
                    "data": {
                        "text/html": "Total execution time: 00:00:00.041"
                    },
                    "metadata": {}
                },
                {
                    "output_type": "execute_result",
                    "metadata": {},
                    "execution_count": 1,
                    "data": {
                        "application/vnd.dataresource+json": {
                            "schema": {
                                "fields": [
                                    {
                                        "name": "CustomerID"
                                    },
                                    {
                                        "name": "CompanyName"
                                    },
                                    {
                                        "name": "Main Office addr."
                                    },
                                    {
                                        "name": "Shipping addr."
                                    }
                                ]
                            },
                            "data": [
                                {
                                    "0": "29553",
                                    "1": "Unsurpassed Bikes        ",
                                    "2": "Po Box 8035996",
                                    "3": "use main office addr. "
                                },
                                {
                                    "0": "29574",
                                    "1": "Third Bike Store         ",
                                    "2": "2500 North Stemmons Freeway",
                                    "3": "use main office addr. "
                                },
                                {
                                    "0": "29866",
                                    "1": "Rental Bikes             ",
                                    "2": "99828 Routh Street, Suite 825",
                                    "3": "use main office addr. "
                                },
                                {
                                    "0": "29948",
                                    "1": "Town Industries          ",
                                    "2": "P.O. Box 6256916",
                                    "3": "use main office addr. "
                                },
                                {
                                    "0": "29954",
                                    "1": "Elite Bikes              ",
                                    "2": "Po Box 8259024",
                                    "3": "9178 Jumping St."
                                }
                            ]
                        },
                        "text/html": "<table><tr><th>CustomerID</th><th>CompanyName</th><th>Main Office addr.</th><th>Shipping addr.</th></tr><tr><td>29553</td><td>Unsurpassed Bikes        </td><td>Po Box 8035996</td><td>use main office addr. </td></tr><tr><td>29574</td><td>Third Bike Store         </td><td>2500 North Stemmons Freeway</td><td>use main office addr. </td></tr><tr><td>29866</td><td>Rental Bikes             </td><td>99828 Routh Street, Suite 825</td><td>use main office addr. </td></tr><tr><td>29948</td><td>Town Industries          </td><td>P.O. Box 6256916</td><td>use main office addr. </td></tr><tr><td>29954</td><td>Elite Bikes              </td><td>Po Box 8259024</td><td>9178 Jumping St.</td></tr></table>"
                    }
                }
            ],
            "execution_count": 1
        },
        {
            "cell_type": "markdown",
            "source": [
                "For each order show the SalesOrderID and SubTotal calculated three ways:\n",
                "\n",
                "* From the SalesOrderHeader\n",
                "* Sum of OrderQty * UnitPrice\n",
                "* Sum of OrderQty * ListPrice"
            ],
            "metadata": {
                "azdata_cell_guid": "4a42302e-1c87-4c77-856d-3c89d3f45e7b"
            }
        },
        {
            "cell_type": "code",
            "source": [
                "-- sql here\n",
                "SELECT TOP 3\n",
                "  SalesOrderHeader.SalesOrderID,\n",
                "  SalesOrderHeader.SubTotal,\n",
                "  SUM(SalesOrderDetail.OrderQty * SalesOrderDetail.UnitPrice),\n",
                "  SUM(SalesOrderDetail.OrderQty * Product.ListPrice)\n",
                "FROM\n",
                "  SalesLT.SalesOrderHeader\n",
                "  JOIN\n",
                "    SalesLT.SalesOrderDetail\n",
                "    ON SalesOrderHeader.SalesOrderID = SalesOrderDetail.SalesOrderID\n",
                "  JOIN\n",
                "    SalesLT.Product\n",
                "    ON SalesOrderDetail.ProductID = Product.ProductID\n",
                "GROUP BY\n",
                "  SalesOrderHeader.SalesOrderID,\n",
                "  SalesOrderHeader.SubTotal"
            ],
            "metadata": {
                "azdata_cell_guid": "745d7616-1883-4df0-927f-f4b252467ce1"
            },
            "outputs": [
                {
                    "output_type": "display_data",
                    "data": {
                        "text/html": "(3 rows affected)"
                    },
                    "metadata": {}
                },
                {
                    "output_type": "display_data",
                    "data": {
                        "text/html": "Total execution time: 00:00:00.031"
                    },
                    "metadata": {}
                },
                {
                    "output_type": "execute_result",
                    "metadata": {},
                    "execution_count": 7,
                    "data": {
                        "application/vnd.dataresource+json": {
                            "schema": {
                                "fields": [
                                    {
                                        "name": "SalesOrderID"
                                    },
                                    {
                                        "name": "SubTotal"
                                    },
                                    {
                                        "name": "(No column name)"
                                    },
                                    {
                                        "name": "(No column name)"
                                    }
                                ]
                            },
                            "data": [
                                {
                                    "0": "71774",
                                    "1": "880.3484",
                                    "2": "713.7960",
                                    "3": "1189.6600"
                                },
                                {
                                    "0": "71776",
                                    "1": "78.8100",
                                    "2": "63.9000",
                                    "3": "106.5000"
                                },
                                {
                                    "0": "71780",
                                    "1": "38418.6895",
                                    "2": "30600.9960",
                                    "3": "56651.5600"
                                }
                            ]
                        },
                        "text/html": "<table><tr><th>SalesOrderID</th><th>SubTotal</th><th>(No column name)</th><th>(No column name)</th></tr><tr><td>71774</td><td>880.3484</td><td>713.7960</td><td>1189.6600</td></tr><tr><td>71776</td><td>78.8100</td><td>63.9000</td><td>106.5000</td></tr><tr><td>71780</td><td>38418.6895</td><td>30600.9960</td><td>56651.5600</td></tr></table>"
                    }
                }
            ],
            "execution_count": 7
        },
        {
            "cell_type": "markdown",
            "source": [
                "Show the best selling item by value."
            ],
            "metadata": {
                "azdata_cell_guid": "c12107f9-c16b-4e3d-b337-cdcd3c6f5360"
            }
        },
        {
            "cell_type": "code",
            "source": [
                "-- sql here\n",
                "SELECT TOP 3\n",
                "  Product.Name,\n",
                "  SUM(SalesOrderDetail.OrderQty * SalesOrderDetail.UnitPrice) AS Total_Sale_Value\n",
                "FROM\n",
                "  SalesLT.Product\n",
                "  JOIN\n",
                "    SalesLT.SalesOrderDetail\n",
                "    ON Product.ProductID = SalesOrderDetail.ProductID\n",
                "GROUP BY\n",
                "  Product.Name\n",
                "ORDER BY\n",
                "  Total_Sale_Value DESC"
            ],
            "metadata": {
                "azdata_cell_guid": "850491fb-44d2-43da-ae41-71205a180e96"
            },
            "outputs": [
                {
                    "output_type": "display_data",
                    "data": {
                        "text/html": "(3 rows affected)"
                    },
                    "metadata": {}
                },
                {
                    "output_type": "display_data",
                    "data": {
                        "text/html": "Total execution time: 00:00:00.024"
                    },
                    "metadata": {}
                },
                {
                    "output_type": "execute_result",
                    "metadata": {},
                    "execution_count": 5,
                    "data": {
                        "application/vnd.dataresource+json": {
                            "schema": {
                                "fields": [
                                    {
                                        "name": "Name"
                                    },
                                    {
                                        "name": "Total_Sale_Value"
                                    }
                                ]
                            },
                            "data": [
                                {
                                    "0": "Road-350-W Yellow, 48",
                                    "1": "38612.4730"
                                },
                                {
                                    "0": "Touring-1000 Blue, 60",
                                    "1": "37191.4920"
                                },
                                {
                                    "0": "Mountain-200 Black, 42",
                                    "1": "37178.8380"
                                }
                            ]
                        },
                        "text/html": "<table><tr><th>Name</th><th>Total_Sale_Value</th></tr><tr><td>Road-350-W Yellow, 48</td><td>38612.4730</td></tr><tr><td>Touring-1000 Blue, 60</td><td>37191.4920</td></tr><tr><td>Mountain-200 Black, 42</td><td>37178.8380</td></tr></table>"
                    }
                }
            ],
            "execution_count": 5
        },
        {
            "cell_type": "markdown",
            "source": [
                "Show how many orders are in the following ranges (in $):\n",
                "\n",
                "```\n",
                "  RANGE      Num Orders      Total Value\n",
                "    0-  99\n",
                "  100- 999\n",
                " 1000-9999\n",
                "10000-\n",
                "```"
            ],
            "metadata": {
                "azdata_cell_guid": "23060d27-6e70-4d8e-930b-5bc516f00cbf"
            }
        },
        {
            "cell_type": "code",
            "source": [
                "-- sql here\n",
                "SELECT\n",
                "  t.range AS 'RANGE',\n",
                "  COUNT(t.Total) AS 'Num Orders',\n",
                "  SUM(t.Total) AS 'Total Value'\n",
                "FROM\n",
                "  (\n",
                "    SELECT\n",
                "    CASE\n",
                "      WHEN\n",
                "        SalesOrderDetail.UnitPrice * SalesOrderDetail.OrderQty BETWEEN 0 AND 99\n",
                "      THEN\n",
                "        '0-99'\n",
                "      WHEN\n",
                "        SalesOrderDetail.UnitPrice * SalesOrderDetail.OrderQty BETWEEN 100 AND 999\n",
                "      THEN\n",
                "        '100-999'\n",
                "      WHEN\n",
                "        SalesOrderDetail.UnitPrice * SalesOrderDetail.OrderQty BETWEEN 1000 AND 9999\n",
                "      THEN\n",
                "        '1000-9999'\n",
                "      WHEN\n",
                "        SalesOrderDetail.UnitPrice * SalesOrderDetail.OrderQty > 10000\n",
                "      THEN\n",
                "        '10000-'\n",
                "      ELSE\n",
                "        'Error'\n",
                "    END AS 'Range',\n",
                "    SalesOrderDetail.UnitPrice * SalesOrderDetail.OrderQty AS Total\n",
                "  FROM\n",
                "    SalesLT.SalesOrderDetail\n",
                "  ) t\n",
                "GROUP BY\n",
                "  t.range"
            ],
            "metadata": {
                "azdata_cell_guid": "36d1ce1b-fb2b-4405-ad68-3fd4f96bd094"
            },
            "outputs": [
                {
                    "output_type": "display_data",
                    "data": {
                        "text/html": "(4 rows affected)"
                    },
                    "metadata": {}
                },
                {
                    "output_type": "display_data",
                    "data": {
                        "text/html": "Total execution time: 00:00:00.029"
                    },
                    "metadata": {}
                },
                {
                    "output_type": "execute_result",
                    "metadata": {},
                    "execution_count": 3,
                    "data": {
                        "application/vnd.dataresource+json": {
                            "schema": {
                                "fields": [
                                    {
                                        "name": "RANGE"
                                    },
                                    {
                                        "name": "Num Orders"
                                    },
                                    {
                                        "name": "Total Value"
                                    }
                                ]
                            },
                            "data": [
                                {
                                    "0": "0-99",
                                    "1": "143",
                                    "2": "7206.4647"
                                },
                                {
                                    "0": "100-999",
                                    "1": "237",
                                    "2": "94798.8651"
                                },
                                {
                                    "0": "1000-9999",
                                    "1": "153",
                                    "2": "488074.3050"
                                },
                                {
                                    "0": "10000-",
                                    "1": "9",
                                    "2": "123923.2788"
                                }
                            ]
                        },
                        "text/html": "<table><tr><th>RANGE</th><th>Num Orders</th><th>Total Value</th></tr><tr><td>0-99</td><td>143</td><td>7206.4647</td></tr><tr><td>100-999</td><td>237</td><td>94798.8651</td></tr><tr><td>1000-9999</td><td>153</td><td>488074.3050</td></tr><tr><td>10000-</td><td>9</td><td>123923.2788</td></tr></table>"
                    }
                }
            ],
            "execution_count": 3
        },
        {
            "cell_type": "markdown",
            "source": [
                "Identify the three most important cities. Show the break down of top level product category against city."
            ],
            "metadata": {
                "azdata_cell_guid": "17a29399-e6b4-4505-88a8-7429456f1e71"
            }
        },
        {
            "cell_type": "code",
            "source": [
                "-- sql here\n",
                "WITH cte1 AS ( -- collecting basic data\n",
                "    SELECT ADR.City, PC.Name, SUM(OrderQty*UnitPrice) AS SaleSum\n",
                "    FROM   SalesLT.ProductCategory PC\n",
                "      JOIN SalesLT.Product PAW ON PC.ProductCategoryID = PAW.ProductCategoryID\n",
                "      JOIN SalesLT.SalesOrderDetail SOD ON SOD.ProductID = PAW.ProductID\n",
                "      JOIN SalesLT.SalesOrderHeader SOH ON SOD.SalesOrderID = SOH.SalesOrderID\n",
                "      JOIN SalesLT.Customer CAW ON SOH.CustomerID = CAW.CustomerID\n",
                "      JOIN SalesLT.CustomerAddress CA ON CAW.CustomerID = CA.CustomerID\n",
                "      JOIN SalesLT.Address ADR ON CA.AddressID = ADR.AddressID\n",
                "    --WHERE  CA.AddressType = 'Shipping'\n",
                "    GROUP BY City, PC.Name  ),\n",
                "  cte2 AS ( -- three most important cities\n",
                "    SELECT TOP 3 City, SaleSum\n",
                "    FROM cte1\n",
                "    ORDER BY SaleSum\n",
                "  ),\n",
                "  cte3 AS ( -- max product category per city\n",
                "    SELECT City, MAX(Salesum) as maxSaleSum\n",
                "    FROM cte1\n",
                "    GROUP BY City\n",
                "  )\n",
                " SELECT cte3.City, Name AS ProductCat, maxSaleSum\n",
                " FROM cte2 JOIN cte3 ON cte2.City = cte3.City\n",
                "           JOIN cte1 ON cte2.City = cte1.City\n",
                " WHERE cte1.SaleSum = maxSaleSum"
            ],
            "metadata": {
                "azdata_cell_guid": "2af3ed3e-3555-4982-a1dc-b5e1f6671d29"
            },
            "outputs": [
                {
                    "output_type": "display_data",
                    "data": {
                        "text/html": "(3 rows affected)"
                    },
                    "metadata": {}
                },
                {
                    "output_type": "display_data",
                    "data": {
                        "text/html": "Total execution time: 00:00:00.059"
                    },
                    "metadata": {}
                },
                {
                    "output_type": "execute_result",
                    "metadata": {},
                    "execution_count": 2,
                    "data": {
                        "application/vnd.dataresource+json": {
                            "schema": {
                                "fields": [
                                    {
                                        "name": "City"
                                    },
                                    {
                                        "name": "ProductCat"
                                    },
                                    {
                                        "name": "maxSaleSum"
                                    }
                                ]
                            },
                            "data": [
                                {
                                    "0": "Santa Fe",
                                    "1": "Touring Bikes",
                                    "2": "11188.2780"
                                },
                                {
                                    "0": "London",
                                    "1": "Road Bikes",
                                    "2": "70597.2840"
                                },
                                {
                                    "0": "Alhambra",
                                    "1": "Socks",
                                    "2": "94.5748"
                                }
                            ]
                        },
                        "text/html": "<table><tr><th>City</th><th>ProductCat</th><th>maxSaleSum</th></tr><tr><td>Santa Fe</td><td>Touring Bikes</td><td>11188.2780</td></tr><tr><td>London</td><td>Road Bikes</td><td>70597.2840</td></tr><tr><td>Alhambra</td><td>Socks</td><td>94.5748</td></tr></table>"
                    }
                }
            ],
            "execution_count": 2
        },
        {
            "cell_type": "markdown",
            "source": [
                "### Notes & Conclusion"
            ],
            "metadata": {
                "azdata_cell_guid": "439a441d-ead2-431f-94ef-80a4f9c9bfb2"
            }
        },
        {
            "cell_type": "markdown",
            "source": [
                "Notes are here."
            ],
            "metadata": {
                "azdata_cell_guid": "19198e06-faef-43c7-9e7a-345f3dbc92d0"
            }
        }
    ]
}